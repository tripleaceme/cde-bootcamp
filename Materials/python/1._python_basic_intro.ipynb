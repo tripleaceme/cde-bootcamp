{
 "cells": [
  {
   "cell_type": "markdown",
   "id": "7ff1e3be",
   "metadata": {},
   "source": [
    "# Python for Data Engineering - Day 1"
   ]
  },
  {
   "cell_type": "markdown",
   "id": "95ddb192",
   "metadata": {},
   "source": [
    "## 1. Introduction and Course Overview"
   ]
  },
  {
   "cell_type": "markdown",
   "id": "d9f80e34",
   "metadata": {},
   "source": [
    "- Welcome and Introductions\n",
    "- Course Objectives and Structure\n",
    "- Importance of Python in Data Engineering"
   ]
  },
  {
   "cell_type": "markdown",
   "id": "0706da56",
   "metadata": {},
   "source": [
    "## 2. Setting Up the Environment"
   ]
  },
  {
   "cell_type": "markdown",
   "id": "75b31bcb",
   "metadata": {},
   "source": [
    "### Installing Anaconda"
   ]
  },
  {
   "cell_type": "markdown",
   "id": "f0a7ed1d",
   "metadata": {},
   "source": [
    "Anaconda (includes Python) - [Download here](https://www.anaconda.com/download/success)"
   ]
  },
  {
   "cell_type": "markdown",
   "id": "b6785001",
   "metadata": {},
   "source": [
    "### Setting Up Visual Studio Code (VSCode)"
   ]
  },
  {
   "cell_type": "markdown",
   "id": "fe96fb0d",
   "metadata": {},
   "source": [
    "Visual Studio Code (VSCode) - [Download here](https://code.visualstudio.com/Download)"
   ]
  },
  {
   "cell_type": "markdown",
   "id": "06ae617b",
   "metadata": {},
   "source": [
    "### Introduction to Jupyter Notebooks"
   ]
  },
  {
   "cell_type": "code",
   "execution_count": null,
   "id": "75e8819e",
   "metadata": {},
   "outputs": [],
   "source": []
  },
  {
   "cell_type": "code",
   "execution_count": null,
   "id": "15adcfb0",
   "metadata": {},
   "outputs": [],
   "source": []
  },
  {
   "cell_type": "code",
   "execution_count": null,
   "id": "7c59cdfe",
   "metadata": {},
   "outputs": [],
   "source": [
    "# Example: A simple Python code in Jupyter Notebook\n",
    "print('Hello, Python for Data Engineering!')"
   ]
  },
  {
   "cell_type": "markdown",
   "id": "2ec868d2",
   "metadata": {},
   "source": [
    "# "
   ]
  },
  {
   "cell_type": "markdown",
   "id": "d8db1473",
   "metadata": {},
   "source": [
    "# Expressions, Variables, and Comments in Python"
   ]
  },
  {
   "cell_type": "markdown",
   "id": "2f8dd2f5",
   "metadata": {},
   "source": [
    "By understanding expressions, variables, and comments, you can write clear, understandable, and well-documented Python code. These foundational concepts will help you in building more complex programs in the future."
   ]
  },
  {
   "cell_type": "markdown",
   "id": "ea08376f",
   "metadata": {},
   "source": [
    "# "
   ]
  },
  {
   "cell_type": "markdown",
   "id": "6aad8f08",
   "metadata": {},
   "source": [
    "### Expressions"
   ]
  },
  {
   "cell_type": "markdown",
   "id": "e03e2b73",
   "metadata": {},
   "source": [
    "\n",
    "An expression is a combination of values, variables, and operators that Python can evaluate to produce a new value. An expression can be as simple as a single value or more complex, involving multiple operations.\n",
    "\n",
    "\n",
    "Expressions are building blocks of Python programs. They are used to compute values and perform operations.\n",
    "Python evaluates expressions and returns a result, which can be stored in variables or used directly.\n",
    "\n",
    "#### Examples of Expressions"
   ]
  },
  {
   "cell_type": "code",
   "execution_count": 20,
   "id": "5e467d2f",
   "metadata": {},
   "outputs": [
    {
     "data": {
      "text/plain": [
       "5"
      ]
     },
     "execution_count": 20,
     "metadata": {},
     "output_type": "execute_result"
    }
   ],
   "source": [
    "#Simple Expression\n",
    "2 + 3  # This is an expression that adds two numbers."
   ]
  },
  {
   "cell_type": "code",
   "execution_count": 22,
   "id": "dc2de2ba",
   "metadata": {},
   "outputs": [],
   "source": [
    "#Variable-Based Expression\n",
    "x = 5\n",
    "y = 3\n",
    "result = x + y  # The expression x + y evaluates to 8, which is assigned to the variable result."
   ]
  },
  {
   "cell_type": "code",
   "execution_count": 23,
   "id": "9c5b464a",
   "metadata": {},
   "outputs": [],
   "source": [
    "#Complex Expression\n",
    "total = (x * 2) + (y / 3)  # This expression involves multiplication, addition, and division."
   ]
  },
  {
   "cell_type": "markdown",
   "id": "2c7442f7",
   "metadata": {},
   "source": [
    "# "
   ]
  },
  {
   "cell_type": "markdown",
   "id": "f20a1627",
   "metadata": {},
   "source": [
    "### 2. Variables"
   ]
  },
  {
   "cell_type": "markdown",
   "id": "f45a5a1f",
   "metadata": {},
   "source": [
    "A variable is a name that refers to a value stored in memory. Variables are used to store data that can be referenced and manipulated in a program.\n",
    "\n",
    "- Variables act like containers for storing data values.\n",
    "- In Python, you create a variable by assigning it a value using the = operator.\n",
    "- The value of a variable can be changed later in the program.\n",
    "\n",
    "\n",
    "#### Example of Variables"
   ]
  },
  {
   "cell_type": "code",
   "execution_count": 25,
   "id": "84cff632",
   "metadata": {},
   "outputs": [],
   "source": [
    "name = \"Alice\"  # A string variable\n",
    "age = 25        # An integer variable\n",
    "height = 5.7    # A float variable"
   ]
  },
  {
   "cell_type": "code",
   "execution_count": 26,
   "id": "6d9f7734",
   "metadata": {},
   "outputs": [
    {
     "name": "stdout",
     "output_type": "stream",
     "text": [
      "30\n"
     ]
    }
   ],
   "source": [
    "x = 10          # Assigns 10 to the variable x\n",
    "y = 20          # Assigns 20 to the variable y\n",
    "sum = x + y     # Adds x and y, stores the result in sum\n",
    "print(sum)      # Outputs: 30"
   ]
  },
  {
   "cell_type": "markdown",
   "id": "dd647cd1",
   "metadata": {},
   "source": [
    "`x` and `y` are variables that store integers.\n",
    "`sum` is a variable that stores the result of the expression `x + y`."
   ]
  },
  {
   "cell_type": "markdown",
   "id": "c549b28f",
   "metadata": {},
   "source": [
    "# "
   ]
  },
  {
   "cell_type": "markdown",
   "id": "8cac8471",
   "metadata": {},
   "source": [
    "## 3. Comments"
   ]
  },
  {
   "cell_type": "markdown",
   "id": "274eaba0",
   "metadata": {},
   "source": [
    "Comments are lines in your code that are not executed by Python. They are used to explain what the code does or to leave notes for other programmers (or your future self!).\n",
    "\n",
    "\n",
    "#### Why Use Comments?\n",
    "- Documentation: Helps explain the purpose of the code.\n",
    "- Readability: Makes the code easier to read and understand.\n",
    "- Debugging: Allows developers to \"comment out\" parts of the code to test functionality.\n",
    "\n",
    "\n",
    "#### Best Practices for Comments\n",
    "- Keep comments clear and concise.\n",
    "- Use comments to explain why something is done, not what is being done (the code itself should be readable enough to explain the \"what\").\n",
    "- Avoid over-commenting; too many comments can make code cluttered.\n",
    "\n",
    "\n",
    "\n",
    "\n",
    "#### Types of Comments\n",
    "\n",
    "1. Single-Line Comments:\n",
    "\n",
    "Created using the `#` symbol.\n",
    "Everything after the # on that line is a comment and is ignored by Python\n",
    "\n",
    "\n",
    "2. Multi-Line Comments:\n",
    "\n",
    "In Python, multi-line comments are typically created using triple quotes (`'''` or `\"\"\"`).\n",
    "Although technically these are multi-line strings, when used without being assigned to a variable, they act as comments.\n"
   ]
  },
  {
   "cell_type": "code",
   "execution_count": 29,
   "id": "2b09456e",
   "metadata": {},
   "outputs": [],
   "source": [
    "# This is a single-line comment\n",
    "x = 5  # This sets x to 5"
   ]
  },
  {
   "cell_type": "code",
   "execution_count": 30,
   "id": "540e50d7",
   "metadata": {},
   "outputs": [
    {
     "name": "stdout",
     "output_type": "stream",
     "text": [
      "50\n"
     ]
    }
   ],
   "source": [
    "#multi-line comment\n",
    "\"\"\"\n",
    "This program calculates the area of a rectangle.\n",
    "The width and height are defined as variables.\n",
    "The area is then calculated and printed.\n",
    "\"\"\"\n",
    "width = 10\n",
    "height = 5\n",
    "area = width * height\n",
    "print(area)\n"
   ]
  },
  {
   "cell_type": "markdown",
   "id": "da105d1d",
   "metadata": {},
   "source": [
    "#"
   ]
  },
  {
   "cell_type": "markdown",
   "id": "2005bb8f",
   "metadata": {},
   "source": [
    "# Data Types in Python"
   ]
  },
  {
   "cell_type": "markdown",
   "id": "3595f6cc",
   "metadata": {},
   "source": [
    "In Python, variables are used to store data, and data types define the kind of data that can be stored in these variables. Understanding different data types is essential for effective programming in Python."
   ]
  },
  {
   "cell_type": "markdown",
   "id": "93f92eb6",
   "metadata": {},
   "source": [
    "### 1. Integer (`int`)"
   ]
  },
  {
   "cell_type": "markdown",
   "id": "851beae7",
   "metadata": {},
   "source": [
    "\n",
    "An integer is a whole number that can be either positive, negative, or zero, and it does not contain any fractional or decimal part.\n",
    "\n",
    "Integers are used for counting or ordering items and for any arithmetic operations that require whole numbers.\n",
    "\n",
    "\n",
    "##### examples"
   ]
  },
  {
   "cell_type": "code",
   "execution_count": 1,
   "id": "eccafa2c",
   "metadata": {},
   "outputs": [],
   "source": [
    "age = 30       # Age is typically represented as a whole number\n",
    "temperature = -5  # Negative integers are also valid\n",
    "x = 5"
   ]
  },
  {
   "cell_type": "markdown",
   "id": "3d8a9f64",
   "metadata": {},
   "source": [
    "###"
   ]
  },
  {
   "cell_type": "markdown",
   "id": "6129d002",
   "metadata": {},
   "source": [
    "### 2. Float (`float`)"
   ]
  },
  {
   "cell_type": "markdown",
   "id": "2321486c",
   "metadata": {},
   "source": [
    "A float, or \"floating-point number,\" is a number that has a decimal point. It can represent both positive and negative numbers and is often used for precise calculations.\n",
    "\n",
    "\n",
    "Floats are used when more precision is needed than whole numbers can provide, such as in scientific calculations, measurements, and financial computations.\n",
    "\n",
    "\n",
    "##### examples"
   ]
  },
  {
   "cell_type": "code",
   "execution_count": 5,
   "id": "52cf69d0",
   "metadata": {},
   "outputs": [],
   "source": [
    "y = 3.14  # Float\n",
    "pi = 3.14159   # A more precise value of Pi\n",
    "height = 5.8   # Height in meters with a decimal part"
   ]
  },
  {
   "cell_type": "markdown",
   "id": "ffac186d",
   "metadata": {},
   "source": [
    "# "
   ]
  },
  {
   "cell_type": "markdown",
   "id": "b9d1c1cf",
   "metadata": {},
   "source": [
    "### 3. String (str)"
   ]
  },
  {
   "cell_type": "markdown",
   "id": "6ffca8c9",
   "metadata": {},
   "source": [
    "A string is a sequence of characters enclosed in single (') or double (\") quotes. Strings are used to represent text data.\n",
    "\n",
    "\n",
    "Strings are used for handling text, such as names, addresses, or any other textual information. They are also used in user interfaces and input/output operations.\n",
    "\n",
    "##### examples"
   ]
  },
  {
   "cell_type": "code",
   "execution_count": 8,
   "id": "ce873ae1",
   "metadata": {},
   "outputs": [],
   "source": [
    "name = \"Alice\"  # String\n",
    "greeting = \"Hello, World!\"   # A common introductory example\n",
    "language = 'Python'          # Strings can also use single quotes"
   ]
  },
  {
   "cell_type": "markdown",
   "id": "9c9bc510",
   "metadata": {},
   "source": [
    "##### Common String Operations"
   ]
  },
  {
   "cell_type": "code",
   "execution_count": 10,
   "id": "d6419831",
   "metadata": {},
   "outputs": [],
   "source": [
    "#concatenate +\n",
    "\n",
    "full_name = \"Alice\" + \" \" + \"Smith\"  # Result: \"Alice Smith\""
   ]
  },
  {
   "cell_type": "code",
   "execution_count": 11,
   "id": "aca403ee",
   "metadata": {},
   "outputs": [],
   "source": [
    "#Repetition: Repeat strings using *\n",
    "\n",
    "repeated = \"ha\" * 3  # Result: \"hahaha\""
   ]
  },
  {
   "cell_type": "code",
   "execution_count": 12,
   "id": "bf69ea65",
   "metadata": {},
   "outputs": [],
   "source": [
    "#Indexing and Slicing: Access specific parts of a string\n",
    "\n",
    "first_letter = name[0]  # Result: 'A'\n",
    "substring = name[1:3]   # Result: 'li'\n"
   ]
  },
  {
   "cell_type": "markdown",
   "id": "06ae77a3",
   "metadata": {},
   "source": [
    "#"
   ]
  },
  {
   "cell_type": "markdown",
   "id": "32f8f8f9",
   "metadata": {},
   "source": [
    "### 4. Boolean (`bool`)"
   ]
  },
  {
   "cell_type": "markdown",
   "id": "84c05e96",
   "metadata": {},
   "source": [
    "A Boolean is a data type that can only have one of two possible values: True or False. Booleans are used in conditional statements and to represent binary outcomes.\n",
    "\n",
    "\n",
    "##### examples"
   ]
  },
  {
   "cell_type": "code",
   "execution_count": 14,
   "id": "feb846b1",
   "metadata": {},
   "outputs": [],
   "source": [
    "is_student = True  # Boolean\n",
    "is_adult = False  # A person under 18 might not be considered an adult"
   ]
  },
  {
   "cell_type": "markdown",
   "id": "f423bf60",
   "metadata": {},
   "source": [
    "##### Common Boolean Operations"
   ]
  },
  {
   "cell_type": "code",
   "execution_count": 15,
   "id": "5c803615",
   "metadata": {},
   "outputs": [],
   "source": [
    "#Logical `and`: Returns True if both operands are True\n",
    "result = (x > 0) and (y < 10)  # Both conditions must be True"
   ]
  },
  {
   "cell_type": "code",
   "execution_count": 16,
   "id": "79b65fbd",
   "metadata": {},
   "outputs": [],
   "source": [
    "#Logical `or`: Returns True if at least one operand is True\n",
    "result = (x < 0) or (y > 1)  # At least one condition must be True"
   ]
  },
  {
   "cell_type": "code",
   "execution_count": 18,
   "id": "9749f30b",
   "metadata": {},
   "outputs": [],
   "source": [
    "#Logical not: Inverts the Boolean value\n",
    "result = not is_student  # If is_student is True, result will be False"
   ]
  },
  {
   "cell_type": "markdown",
   "id": "aef680e1",
   "metadata": {},
   "source": [
    "# "
   ]
  },
  {
   "cell_type": "markdown",
   "id": "4e6770d5",
   "metadata": {},
   "source": [
    "# Basic Data Structures: Lists, Tuples, Dictionaries, Sets"
   ]
  },
  {
   "cell_type": "markdown",
   "id": "fa7ac314",
   "metadata": {},
   "source": [
    "Python provides several built-in data types for storing collections of items. Understanding these data types will help you effectively organize and manipulate data in your programs.\n",
    "\n",
    "\n",
    "- `List`: Ordered, mutable collection (useful for storing a sequence of items).\n",
    "- `Tuple`: Ordered, immutable collection (useful for fixed data that shouldn't change).\n",
    "- `Dictionary`: Unordered, mutable collection of key-value pairs (useful for associating keys with values).\n",
    "- `Set`: Unordered, mutable collection of unique items (useful for membership testing and eliminating duplicates).\n",
    "\n",
    "\n",
    "Understanding these data types will help you choose the right one for your needs and write more efficient and effective Python code."
   ]
  },
  {
   "cell_type": "markdown",
   "id": "dd58a1b4",
   "metadata": {},
   "source": [
    "## 1. List"
   ]
  },
  {
   "cell_type": "markdown",
   "id": "367b80ea",
   "metadata": {},
   "source": [
    "A list is an ordered, mutable (changeable) collection of items. Lists are defined using square brackets `[]`, and they can store items of any data type (integers, strings, floats, other lists, etc.).\n",
    "\n",
    "\n",
    "- Lists are ordered, meaning the items have a defined order that will not change unless explicitly altered.\n",
    "- Lists are mutable, so you can change, add, or remove items after the list is created.\n",
    "\n",
    "#### Example\n",
    "`fruits` is a list containing three string elements: `'apple'`, `'banana'`, and `'cherry'`."
   ]
  },
  {
   "cell_type": "code",
   "execution_count": 32,
   "id": "f5c11eb6",
   "metadata": {},
   "outputs": [],
   "source": [
    "fruits = ['apple', 'banana', 'cherry']  # List"
   ]
  },
  {
   "cell_type": "markdown",
   "id": "6735d2a3",
   "metadata": {},
   "source": [
    "#### Common Operations on Lists"
   ]
  },
  {
   "cell_type": "code",
   "execution_count": null,
   "id": "0de34c22",
   "metadata": {},
   "outputs": [],
   "source": [
    "# Accessing element\n",
    "print(fruits[0])  # Output: apple"
   ]
  },
  {
   "cell_type": "code",
   "execution_count": null,
   "id": "22b2f878",
   "metadata": {},
   "outputs": [],
   "source": [
    "# Modifying element\n",
    "fruits[1] = 'blueberry'  # Changes 'banana' to 'blueberry'"
   ]
  },
  {
   "cell_type": "code",
   "execution_count": 33,
   "id": "569a35c2",
   "metadata": {},
   "outputs": [],
   "source": [
    "# Adding Element\n",
    "fruits.append('orange')  # Adds 'orange' to the end of the list"
   ]
  },
  {
   "cell_type": "code",
   "execution_count": null,
   "id": "9131ffa9",
   "metadata": {},
   "outputs": [],
   "source": [
    "# Remove Element\n",
    "fruits.remove('cherry')  # Removes 'cherry' from the list\n"
   ]
  },
  {
   "cell_type": "markdown",
   "id": "e26ed60d",
   "metadata": {},
   "source": [
    "#"
   ]
  },
  {
   "cell_type": "markdown",
   "id": "2b9d652c",
   "metadata": {},
   "source": [
    "## 2. Tuple"
   ]
  },
  {
   "cell_type": "markdown",
   "id": "76750151",
   "metadata": {},
   "source": [
    "A tuple is an ordered, immutable (unchangeable) collection of items. Tuples are defined using parentheses `()`.\n",
    "Tuples are perfect for creating read-only data structures that are meant to be traversed, accessed, or utilized without modification. They provide a way to create lightweight and high-performance sequences.\n",
    "\n",
    "\n",
    "- Tuples are ordered, meaning the items have a defined order.\n",
    "- Tuples are immutable, so once a tuple is created, you cannot change, add, or remove items.\n",
    "\n",
    "\n",
    "#### Example\n",
    "`vegetables` is a tuple containing three string elements: `'carrot'`, `'lettuce'`, and `'spinach'`."
   ]
  },
  {
   "cell_type": "code",
   "execution_count": 34,
   "id": "a6f7ba2a",
   "metadata": {},
   "outputs": [],
   "source": [
    "vegetables = ('carrot', 'lettuce', 'spinach')  # Tuple\n",
    "weekdays = ('Monday', 'Tuesday', 'Wednesday', 'Thursday', 'Friday', 'Saturday', 'Sunday') #\n"
   ]
  },
  {
   "cell_type": "markdown",
   "id": "9d0de263",
   "metadata": {},
   "source": [
    "#### Common Operations on tuple"
   ]
  },
  {
   "cell_type": "code",
   "execution_count": 37,
   "id": "97f2a133",
   "metadata": {},
   "outputs": [
    {
     "name": "stdout",
     "output_type": "stream",
     "text": [
      "carrot\n"
     ]
    }
   ],
   "source": [
    "# Accessing element\n",
    "print(vegetables[0])  # Output: carrot"
   ]
  },
  {
   "cell_type": "code",
   "execution_count": 42,
   "id": "3520c607",
   "metadata": {},
   "outputs": [],
   "source": [
    "# Immutability\n",
    "vegetables[1] = 'cabbage'  # This will raise an error because tuples cannot be modified\n"
   ]
  },
  {
   "cell_type": "markdown",
   "id": "0927301f",
   "metadata": {},
   "source": [
    "#"
   ]
  },
  {
   "cell_type": "markdown",
   "id": "a5bf7ec5",
   "metadata": {},
   "source": [
    "## 3. Dictionary"
   ]
  },
  {
   "cell_type": "markdown",
   "id": "28be8900",
   "metadata": {},
   "source": [
    "A dictionary is an unordered, mutable collection of key-value pairs. Dictionaries are defined using curly braces `{}` and use a colon `:` to separate keys from their values.\n",
    "\n",
    "- Dictionaries are unordered, meaning there is no guaranteed order of items.\n",
    "- Dictionaries are mutable, so you can add, remove, or change key-value pairs.\n",
    "\n",
    "#### Example\n",
    "`person` is a dictionary with three key-value pairs:\n",
    "- `'name'` is the key with the value `'Alice'`.\n",
    "- `'age'` is the key with the value `25`.\n",
    "- `'city'` is the key with the value `'New York'`."
   ]
  },
  {
   "cell_type": "code",
   "execution_count": 43,
   "id": "8f2b2951",
   "metadata": {},
   "outputs": [],
   "source": [
    "person = {'name': 'Alice', 'age': 25, 'city': 'New York'}  # Dictionary"
   ]
  },
  {
   "cell_type": "code",
   "execution_count": 45,
   "id": "ec7da93e",
   "metadata": {},
   "outputs": [
    {
     "name": "stdout",
     "output_type": "stream",
     "text": [
      "Alice\n"
     ]
    }
   ],
   "source": [
    "# Accessing Values:\n",
    "print(person['name'])  # Output: Alice"
   ]
  },
  {
   "cell_type": "code",
   "execution_count": 46,
   "id": "e2f621aa",
   "metadata": {},
   "outputs": [],
   "source": [
    "# Modifying Values:\n",
    "person['age'] = 26  # Changes the value associated with 'age' to 26"
   ]
  },
  {
   "cell_type": "code",
   "execution_count": 47,
   "id": "15ca3197",
   "metadata": {},
   "outputs": [],
   "source": [
    "#Adding Key-Value Pairs:\n",
    "person['email'] = 'alice@example.com'  # Adds a new key-value pair to the dictionary"
   ]
  },
  {
   "cell_type": "code",
   "execution_count": null,
   "id": "eb0cf56e",
   "metadata": {},
   "outputs": [],
   "source": [
    "# Removing Key-Value Pairs:\n",
    "del person['city']  # Removes the key 'city' and its value"
   ]
  },
  {
   "cell_type": "markdown",
   "id": "267ae608",
   "metadata": {},
   "source": [
    "#"
   ]
  },
  {
   "cell_type": "markdown",
   "id": "363b593f",
   "metadata": {},
   "source": [
    "## 4. Set"
   ]
  },
  {
   "cell_type": "markdown",
   "id": "cb26258d",
   "metadata": {},
   "source": [
    "A set is an unordered, mutable collection of unique items. Sets are defined using curly braces `{}` or the `set()` function.\n",
    "\n",
    "- Sets are unordered, meaning there is no guaranteed order of items.\n",
    "- Sets do not allow duplicate elements; each item must be unique.\n",
    "- Sets are mutable, so you can add or remove items.\n",
    "\n",
    "\n",
    "#### Example\n",
    "`unique_numbers` is a set containing five unique integer elements."
   ]
  },
  {
   "cell_type": "code",
   "execution_count": 50,
   "id": "d0b1a78b",
   "metadata": {},
   "outputs": [],
   "source": [
    "unique_numbers = {1, 2, 3, 4, 5}  # Set"
   ]
  },
  {
   "cell_type": "code",
   "execution_count": 51,
   "id": "a8f6b9d3",
   "metadata": {},
   "outputs": [],
   "source": [
    "# Adding Elements:\n",
    "unique_numbers.add(6)  # Adds 6 to the set"
   ]
  },
  {
   "cell_type": "code",
   "execution_count": 52,
   "id": "b7ce57d5",
   "metadata": {},
   "outputs": [],
   "source": [
    "# Removing Elements:\n",
    "unique_numbers.remove(3)  # Removes 3 from the set"
   ]
  },
  {
   "cell_type": "code",
   "execution_count": 53,
   "id": "7ed51b75",
   "metadata": {},
   "outputs": [],
   "source": [
    "# Set Operations (like mathematical sets):\n",
    "even_numbers = {2, 4, 6}\n",
    "intersection = unique_numbers & even_numbers  # {2, 4}\n",
    "union = unique_numbers | even_numbers         # {1, 2, 3, 4, 5, 6}"
   ]
  },
  {
   "cell_type": "code",
   "execution_count": null,
   "id": "13c0c8d0",
   "metadata": {},
   "outputs": [],
   "source": []
  },
  {
   "cell_type": "markdown",
   "id": "1aaa3258",
   "metadata": {},
   "source": [
    "# "
   ]
  }
 ],
 "metadata": {
  "kernelspec": {
   "display_name": "Python 3 (ipykernel)",
   "language": "python",
   "name": "python3"
  },
  "language_info": {
   "codemirror_mode": {
    "name": "ipython",
    "version": 3
   },
   "file_extension": ".py",
   "mimetype": "text/x-python",
   "name": "python",
   "nbconvert_exporter": "python",
   "pygments_lexer": "ipython3",
   "version": "3.8.16"
  }
 },
 "nbformat": 4,
 "nbformat_minor": 5
}
